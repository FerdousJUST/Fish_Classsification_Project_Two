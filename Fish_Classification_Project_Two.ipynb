{
  "nbformat": 4,
  "nbformat_minor": 0,
  "metadata": {
    "colab": {
      "provenance": [],
      "mount_file_id": "1zbZMZ7WiMyLNPx8Y8J2s9Ugn-D-MYJZT",
      "authorship_tag": "ABX9TyMGc8rzv0kmpNnAZialYWqv",
      "include_colab_link": true
    },
    "kernelspec": {
      "name": "python3",
      "display_name": "Python 3"
    },
    "language_info": {
      "name": "python"
    }
  },
  "cells": [
    {
      "cell_type": "markdown",
      "metadata": {
        "id": "view-in-github",
        "colab_type": "text"
      },
      "source": [
        "<a href=\"https://colab.research.google.com/github/FerdousJUST/Fish_Classsification_Project_Two/blob/main/Fish_Classification_Project_Two.ipynb\" target=\"_parent\"><img src=\"https://colab.research.google.com/assets/colab-badge.svg\" alt=\"Open In Colab\"/></a>"
      ]
    },
    {
      "cell_type": "code",
      "execution_count": 1,
      "metadata": {
        "id": "2HuQe78_26g6"
      },
      "outputs": [],
      "source": [
        "import os\n",
        "import numpy as np\n",
        "import pandas as pd\n",
        "import matplotlib.pyplot as plt\n",
        "import cv2\n",
        "import imageio\n",
        "import pathlib\n",
        "%matplotlib inline"
      ]
    },
    {
      "cell_type": "code",
      "source": [
        "import tensorflow as tf\n",
        "tf.test.gpu_device_name()"
      ],
      "metadata": {
        "colab": {
          "base_uri": "https://localhost:8080/",
          "height": 35
        },
        "id": "mKqtwu3_3cdt",
        "outputId": "3263e840-d21d-415a-efc2-b3862893ebe6"
      },
      "execution_count": 2,
      "outputs": [
        {
          "output_type": "execute_result",
          "data": {
            "text/plain": [
              "''"
            ],
            "application/vnd.google.colaboratory.intrinsic+json": {
              "type": "string"
            }
          },
          "metadata": {},
          "execution_count": 2
        }
      ]
    },
    {
      "cell_type": "code",
      "source": [
        "from keras.preprocessing.image import ImageDataGenerator\n",
        "rescaled = ImageDataGenerator(1/255)\n",
        "train_fed = rescaled.flow_from_directory(\n",
        "    '/content/drive/Shareddrives/Research Collaboration/Image_Classification_Dataset/Training',\n",
        "                                target_size=(128,128),batch_size=32,class_mode= 'categorical') \n",
        "test_fed = rescaled.flow_from_directory(\n",
        "    '/content/drive/Shareddrives/Research Collaboration/Image_Classification_Dataset/Validation',\n",
        "                                target_size=(128,128),batch_size=32,class_mode= 'categorical')"
      ],
      "metadata": {
        "colab": {
          "base_uri": "https://localhost:8080/"
        },
        "id": "HckXwimw3cXN",
        "outputId": "53f873bb-5e5f-44f8-e688-2a19fea1074c"
      },
      "execution_count": 3,
      "outputs": [
        {
          "output_type": "stream",
          "name": "stdout",
          "text": [
            "Found 4800 images belonging to 4 classes.\n",
            "Found 1200 images belonging to 4 classes.\n"
          ]
        }
      ]
    },
    {
      "cell_type": "code",
      "source": [
        "from tensorflow.keras.layers import Input,Flatten,Dense\n",
        "from tensorflow.keras.models import Model\n",
        "from tensorflow.keras.models import Sequential"
      ],
      "metadata": {
        "id": "SKrt3Cnw3cTP"
      },
      "execution_count": 5,
      "outputs": []
    },
    {
      "cell_type": "code",
      "source": [
        "model = tf.keras.models.Sequential([tf.keras.layers.Conv2D(16,kernel_size=(3,3),activation = 'relu',input_shape = (128,128,3)),\n",
        "                                    tf.keras.layers.MaxPool2D(2,2),\n",
        "                                    \n",
        "                                    tf.keras.layers.Conv2D(32,kernel_size=(3,3),activation = 'relu'),\n",
        "                                    tf.keras.layers.MaxPool2D(2,2),\n",
        "\n",
        "                                    tf.keras.layers.Conv2D(64,kernel_size=(3,3),activation = 'relu'),\n",
        "                                    tf.keras.layers.MaxPool2D(2,2),\n",
        "\n",
        "                                    tf.keras.layers.Conv2D(128,kernel_size=(3,3),activation = 'relu'),\n",
        "                                    tf.keras.layers.MaxPool2D(2,2),\n",
        "\n",
        "                                    tf.keras.layers.Conv2D(128,kernel_size=(3,3),activation = 'relu'),\n",
        "                                    tf.keras.layers.MaxPool2D(2,2),\n",
        "\n",
        "                                    tf.keras.layers.Flatten(),\n",
        "\n",
        "                                    tf.keras.layers.Dense(128,activation = 'relu'),\n",
        "                                    tf.keras.layers.Dropout(0.5),\n",
        "                                    tf.keras.layers.Dense(4,activation = 'softmax')\n",
        "                                    ])\n",
        "     "
      ],
      "metadata": {
        "id": "x91739Kp3cOj"
      },
      "execution_count": 6,
      "outputs": []
    },
    {
      "cell_type": "code",
      "source": [
        "\n",
        "model.summary()"
      ],
      "metadata": {
        "colab": {
          "base_uri": "https://localhost:8080/"
        },
        "id": "67H334Ic3cHt",
        "outputId": "7f3bb56c-66ea-4fac-dbc9-3fa41201897f"
      },
      "execution_count": 7,
      "outputs": [
        {
          "output_type": "stream",
          "name": "stdout",
          "text": [
            "Model: \"sequential\"\n",
            "_________________________________________________________________\n",
            " Layer (type)                Output Shape              Param #   \n",
            "=================================================================\n",
            " conv2d (Conv2D)             (None, 126, 126, 16)      448       \n",
            "                                                                 \n",
            " max_pooling2d (MaxPooling2D  (None, 63, 63, 16)       0         \n",
            " )                                                               \n",
            "                                                                 \n",
            " conv2d_1 (Conv2D)           (None, 61, 61, 32)        4640      \n",
            "                                                                 \n",
            " max_pooling2d_1 (MaxPooling  (None, 30, 30, 32)       0         \n",
            " 2D)                                                             \n",
            "                                                                 \n",
            " conv2d_2 (Conv2D)           (None, 28, 28, 64)        18496     \n",
            "                                                                 \n",
            " max_pooling2d_2 (MaxPooling  (None, 14, 14, 64)       0         \n",
            " 2D)                                                             \n",
            "                                                                 \n",
            " conv2d_3 (Conv2D)           (None, 12, 12, 128)       73856     \n",
            "                                                                 \n",
            " max_pooling2d_3 (MaxPooling  (None, 6, 6, 128)        0         \n",
            " 2D)                                                             \n",
            "                                                                 \n",
            " conv2d_4 (Conv2D)           (None, 4, 4, 128)         147584    \n",
            "                                                                 \n",
            " max_pooling2d_4 (MaxPooling  (None, 2, 2, 128)        0         \n",
            " 2D)                                                             \n",
            "                                                                 \n",
            " flatten (Flatten)           (None, 512)               0         \n",
            "                                                                 \n",
            " dense (Dense)               (None, 128)               65664     \n",
            "                                                                 \n",
            " dropout (Dropout)           (None, 128)               0         \n",
            "                                                                 \n",
            " dense_1 (Dense)             (None, 4)                 516       \n",
            "                                                                 \n",
            "=================================================================\n",
            "Total params: 311,204\n",
            "Trainable params: 311,204\n",
            "Non-trainable params: 0\n",
            "_________________________________________________________________\n"
          ]
        }
      ]
    },
    {
      "cell_type": "code",
      "source": [
        "from tensorflow.keras.optimizers import Adam\n",
        "model.compile(loss = 'categorical_crossentropy',optimizer = 'Adam',metrics = ['accuracy'])"
      ],
      "metadata": {
        "id": "jHF3Fj5Q3b72"
      },
      "execution_count": 8,
      "outputs": []
    },
    {
      "cell_type": "code",
      "source": [
        "from keras.callbacks import EarlyStopping,ModelCheckpoint,ReduceLROnPlateau\n",
        "import h5py"
      ],
      "metadata": {
        "id": "mHHJJoy43baC"
      },
      "execution_count": 9,
      "outputs": []
    },
    {
      "cell_type": "code",
      "source": [
        "erl_stop = EarlyStopping(monitor = 'val_loss',patience = 3,restore_best_weights=True)\n",
        "mod_chk = ModelCheckpoint(\n",
        "    filepath='/content/drive/Shareddrives/Research Collaboration/Ferdous MSc Project/part two/my_model.hdf5',\n",
        "                          monitor = 'val_loss',save_best_only = True)\n",
        "lr_rate = ReduceLROnPlateau(monitor = 'val_loss',patience = 3,factor = 0.1)"
      ],
      "metadata": {
        "id": "s4gIjOuY4Pjr"
      },
      "execution_count": 10,
      "outputs": []
    },
    {
      "cell_type": "code",
      "source": [
        "hist = model.fit_generator(train_fed, shuffle = True, epochs=10, validation_data=test_fed,\n",
        "                           callbacks = [erl_stop,mod_chk,lr_rate],verbose = 2\n",
        "                           )"
      ],
      "metadata": {
        "colab": {
          "base_uri": "https://localhost:8080/"
        },
        "id": "24_be7Me4PfO",
        "outputId": "c5dec524-b439-455b-d8c8-f27403b206cf"
      },
      "execution_count": 11,
      "outputs": [
        {
          "output_type": "stream",
          "name": "stderr",
          "text": [
            "<ipython-input-11-da3407ffa4b4>:1: UserWarning: `Model.fit_generator` is deprecated and will be removed in a future version. Please use `Model.fit`, which supports generators.\n",
            "  hist = model.fit_generator(train_fed, shuffle = True, epochs=10, validation_data=test_fed,\n",
            "/usr/local/lib/python3.8/dist-packages/keras/preprocessing/image.py:1663: UserWarning: This ImageDataGenerator specifies `featurewise_center`, but it hasn't been fit on any training data. Fit it first by calling `.fit(numpy_data)`.\n",
            "  warnings.warn('This ImageDataGenerator specifies '\n"
          ]
        },
        {
          "output_type": "stream",
          "name": "stdout",
          "text": [
            "Epoch 1/10\n",
            "150/150 - 2067s - loss: 2.3038 - accuracy: 0.4940 - val_loss: 0.7162 - val_accuracy: 0.6967 - lr: 0.0010 - 2067s/epoch - 14s/step\n",
            "Epoch 2/10\n",
            "150/150 - 121s - loss: 0.5489 - accuracy: 0.7948 - val_loss: 0.6126 - val_accuracy: 0.7817 - lr: 0.0010 - 121s/epoch - 805ms/step\n",
            "Epoch 3/10\n",
            "150/150 - 118s - loss: 0.3266 - accuracy: 0.8842 - val_loss: 0.5754 - val_accuracy: 0.7817 - lr: 0.0010 - 118s/epoch - 788ms/step\n",
            "Epoch 4/10\n",
            "150/150 - 118s - loss: 0.2551 - accuracy: 0.9131 - val_loss: 0.4134 - val_accuracy: 0.8625 - lr: 0.0010 - 118s/epoch - 784ms/step\n",
            "Epoch 5/10\n",
            "150/150 - 118s - loss: 0.2008 - accuracy: 0.9273 - val_loss: 0.2042 - val_accuracy: 0.9292 - lr: 0.0010 - 118s/epoch - 784ms/step\n",
            "Epoch 6/10\n",
            "150/150 - 117s - loss: 0.1310 - accuracy: 0.9535 - val_loss: 0.1354 - val_accuracy: 0.9483 - lr: 0.0010 - 117s/epoch - 777ms/step\n",
            "Epoch 7/10\n",
            "150/150 - 121s - loss: 0.1127 - accuracy: 0.9596 - val_loss: 0.1456 - val_accuracy: 0.9517 - lr: 0.0010 - 121s/epoch - 804ms/step\n",
            "Epoch 8/10\n",
            "150/150 - 116s - loss: 0.0763 - accuracy: 0.9735 - val_loss: 0.1828 - val_accuracy: 0.9425 - lr: 0.0010 - 116s/epoch - 776ms/step\n",
            "Epoch 9/10\n",
            "150/150 - 117s - loss: 0.0669 - accuracy: 0.9769 - val_loss: 0.0733 - val_accuracy: 0.9775 - lr: 0.0010 - 117s/epoch - 780ms/step\n",
            "Epoch 10/10\n",
            "150/150 - 121s - loss: 0.1015 - accuracy: 0.9700 - val_loss: 0.1385 - val_accuracy: 0.9500 - lr: 0.0010 - 121s/epoch - 806ms/step\n"
          ]
        }
      ]
    },
    {
      "cell_type": "code",
      "source": [
        "\n",
        "plt.plot(hist.history['loss'],color = 'blue',label = 'train')\n",
        "plt.plot(hist.history['val_loss'],color = 'orange',label = 'train')\n",
        "plt.grid(True)\n",
        "plt.title(\"Train & Test loss with epochs\\n\",fontsize = 16)\n",
        "plt.xlabel(\"Training Epochs\",fontsize= 12)\n",
        "plt.ylabel(\"Train & Test loss\",fontsize =12)\n",
        "plt.show()\n",
        "     "
      ],
      "metadata": {
        "colab": {
          "base_uri": "https://localhost:8080/",
          "height": 318
        },
        "id": "ODK1896t4PTU",
        "outputId": "7c6ed277-97c1-4c8d-bb31-bfd240016d39"
      },
      "execution_count": 12,
      "outputs": [
        {
          "output_type": "display_data",
          "data": {
            "text/plain": [
              "<Figure size 432x288 with 1 Axes>"
            ],
            "image/png": "[encoded data removed]"
          },
          "metadata": {
            "needs_background": "light"
          }
        }
      ]
    },
    {
      "cell_type": "code",
      "source": [
        "plt.plot(hist.history['accuracy'],color = 'blue',label = 'train')\n",
        "plt.plot(hist.history['val_accuracy'],color = 'orange',label = 'train')\n",
        "plt.grid(True)\n",
        "plt.title(\"Train & Test accuracy with epochs\\n\",fontsize = 16)\n",
        "plt.xlabel(\"Training Epochs\",fontsize= 12)\n",
        "plt.ylabel(\"Train & Test accuracy\",fontsize =12)\n",
        "plt.show()"
      ],
      "metadata": {
        "colab": {
          "base_uri": "https://localhost:8080/",
          "height": 318
        },
        "id": "qwG4e46M4PF6",
        "outputId": "fa93cd6d-2382-4ce2-a5bd-4da941e6dac2"
      },
      "execution_count": 13,
      "outputs": [
        {
          "output_type": "display_data",
          "data": {
            "text/plain": [
              "<Figure size 432x288 with 1 Axes>"
            ],
            "image/png": "[encoded data removed]"
          },
          "metadata": {
            "needs_background": "light"
          }
        }
      ]
    },
    {
      "cell_type": "code",
      "source": [
        "\n",
        "acc = model.evaluate(test_fed,steps = len(test_fed),verbose = 2)\n",
        "print('%.2f'%(acc[1]*100))"
      ],
      "metadata": {
        "colab": {
          "base_uri": "https://localhost:8080/"
        },
        "id": "RWgzhnfp4p95",
        "outputId": "1ec619ee-8fc1-465d-8fed-83f2542aef02"
      },
      "execution_count": 14,
      "outputs": [
        {
          "output_type": "stream",
          "name": "stdout",
          "text": [
            "38/38 - 13s - loss: 0.1385 - accuracy: 0.9500 - 13s/epoch - 341ms/step\n",
            "95.00\n"
          ]
        }
      ]
    }
  ]
}